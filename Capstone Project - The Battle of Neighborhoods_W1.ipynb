{
 "cells": [
  {
   "cell_type": "markdown",
   "metadata": {},
   "source": [
    "# Capstone Project - The Battle of Neighborhoods\n",
    "### Week 1\n",
    "### Applied Data Science Capstone by IBM"
   ]
  },
  {
   "cell_type": "markdown",
   "metadata": {},
   "source": [
    "### Introduction: Business Problem\n",
    "\n",
    "In 2020 United States Presidential Election, Joe Biden narrowly won in the state of Georgia. This project aims to gain an insight into voter's decision. By analyzing how data on income, ethnicity or industries distributed in different counties, we are able to conclude what decision would certain types of voter made. The political parties can thus adjust their policy to attract different target voters.\n"
   ]
  },
  {
   "cell_type": "markdown",
   "metadata": {},
   "source": [
    "### Data\n",
    "\n",
    "* GEOID (Source:https://www2.census.gov/acs2010_5yr/summaryfile/UserTools/Geography/GA.xls)\n",
    "\n",
    "* Votes by county in georgia state - 2020 United States presidential election result by county in Georgia state (Source:https://en.wikipedia.org/wiki/2020_United_States_presidential_election_in_Georgia)\n",
    "\n",
    "* Income by county in georgia state - Covered employment and wages in the United States and all counties in Georgia, fourth quarter 2019\n",
    "(Source:https://www.bls.gov/regions/southeast/news-release/countyemploymentandwages_georgia.htm)\n",
    "\n",
    "* Ethnicity and race distribution by county - County Population by Race 2016\n",
    "(Source:https://census.georgia.gov/census-data/population-estimates)\n",
    "\n",
    "* USCities-City name, County, State, Latitude, Longtitude\n",
    "(Source:https://simplemaps.com/data/us-cities)\n",
    "\n",
    "* Foursquare API"
   ]
  },
  {
   "cell_type": "markdown",
   "metadata": {},
   "source": [
    "#### Import Libraries"
   ]
  },
  {
   "cell_type": "code",
   "execution_count": null,
   "metadata": {},
   "outputs": [],
   "source": [
    "import pandas as pd\n",
    "import numpy as np # library to handle data in a vectorized manner\n",
    "import requests\n",
    "from geopy.geocoders import Nominatim\n",
    "import plotly.graph_objects as go\n",
    "import plotly.express as px\n",
    "\n",
    "print('Libraries imported.')"
   ]
  },
  {
   "cell_type": "code",
   "execution_count": null,
   "metadata": {},
   "outputs": [],
   "source": [
    "!pip install dash==1.19.0\n",
    "!pip install jupyter_dash\n",
    "!pip install --upgrade plotly "
   ]
  },
  {
   "cell_type": "markdown",
   "metadata": {},
   "source": [
    "### Data Exploration\n",
    "#### GEOID"
   ]
  },
  {
   "cell_type": "code",
   "execution_count": null,
   "metadata": {},
   "outputs": [],
   "source": [
    "GA_FIPS='https://drive.google.com/file/d/1Vr3b2RfCJQ3FUC_Y2YZbaJchWezmPPWI/view?usp=sharing'\n",
    "file_id=GA_FIPS.split('/')[-2]\n",
    "dwn_url='https://drive.google.com/uc?id=' + file_id\n",
    "GA_FIPS= pd.read_csv(dwn_url)\n",
    "GA_FIPS_new = GA_FIPS.iloc[12:171]\n",
    "GA_FIPS_new.reset_index(drop=True, inplace=True)\n",
    "GA_FIPS_new.head()"
   ]
  },
  {
   "cell_type": "code",
   "execution_count": null,
   "metadata": {},
   "outputs": [],
   "source": [
    "GEOID = GA_FIPS_new[['GEOID','GEOGRAPHY NAME']]\n",
    "GEOID['County GEOID'] = GEOID['GEOID'].str[7:]\n",
    "GEOID['County'] = GEOID['GEOGRAPHY NAME'].str.replace(\"County, Georgia\",\"\")\n",
    "GEO_new = GEOID.drop(['GEOID', 'GEOGRAPHY NAME'], axis=1)"
   ]
  },
  {
   "cell_type": "code",
   "execution_count": null,
   "metadata": {},
   "outputs": [],
   "source": [
    "GEO_new.head()"
   ]
  },
  {
   "cell_type": "markdown",
   "metadata": {},
   "source": [
    "#### 2020 United States presidential election result by county in Georgia state"
   ]
  },
  {
   "cell_type": "code",
   "execution_count": null,
   "metadata": {},
   "outputs": [],
   "source": [
    "table = pd.read_html('https://en.wikipedia.org/wiki/2020_United_States_presidential_election_in_Georgia', match='Total votes cast')"
   ]
  },
  {
   "cell_type": "code",
   "execution_count": null,
   "metadata": {},
   "outputs": [],
   "source": [
    "GA_result = table[0]"
   ]
  },
  {
   "cell_type": "code",
   "execution_count": null,
   "metadata": {},
   "outputs": [],
   "source": [
    "GA_result.columns = [''] * len(GA_result.columns)\n",
    "\n",
    "columns = [\"County\", \"Joe Biden Democratic #\",\"Joe Biden Democratic %\",\"Donald Trump Republican #\",\"Donald Trump Republican %\",\n",
    "           \"Jo Jorgensen Libertarian #\", \"Jo Jorgensen Libertarian %\", \"Howie Hawkins Green #\", \n",
    "           \"Brian Carroll American Solidarity\", \"Margin #\", \"Margin %\", \"Total Votes Cast\"]\n",
    "GA_result.columns = columns"
   ]
  },
  {
   "cell_type": "code",
   "execution_count": null,
   "metadata": {},
   "outputs": [],
   "source": [
    "GA_result['County'] = GA_result['County'].str.replace(\"[\",\"\")\n",
    "GA_result['County'] = GA_result['County'].str.replace(\"]\",\"\")\n",
    "GA_result['County'] = GA_result['County'].str.replace(\"0\",\"\")\n",
    "GA_result['County'] = GA_result['County'].str.replace(\"1\",\"\")\n",
    "GA_result['County'] = GA_result['County'].str.replace(\"2\",\"\")\n",
    "GA_result['County'] = GA_result['County'].str.replace(\"3\",\"\")\n",
    "GA_result['County'] = GA_result['County'].str.replace(\"4\",\"\")\n",
    "GA_result['County'] = GA_result['County'].str.replace(\"5\",\"\")\n",
    "GA_result['County'] = GA_result['County'].str.replace(\"6\",\"\")\n",
    "GA_result['County'] = GA_result['County'].str.replace(\"7\",\"\")\n",
    "GA_result['County'] = GA_result['County'].str.replace(\"8\",\"\")\n",
    "GA_result['County'] = GA_result['County'].str.replace(\"9\",\"\")"
   ]
  },
  {
   "cell_type": "code",
   "execution_count": null,
   "metadata": {},
   "outputs": [],
   "source": [
    "GA_result.head()"
   ]
  },
  {
   "cell_type": "code",
   "execution_count": null,
   "metadata": {},
   "outputs": [],
   "source": [
    "GA_result.tail()"
   ]
  },
  {
   "cell_type": "code",
   "execution_count": null,
   "metadata": {},
   "outputs": [],
   "source": [
    "GA_result.shape"
   ]
  },
  {
   "cell_type": "code",
   "execution_count": null,
   "metadata": {},
   "outputs": [],
   "source": [
    "JB_and_DT_N = GA_result[['Joe Biden Democratic #','Donald Trump Republican #']]"
   ]
  },
  {
   "cell_type": "code",
   "execution_count": null,
   "metadata": {},
   "outputs": [],
   "source": [
    "JB_and_DT_N_dropped_last_1 = JB_and_DT_N.iloc[:-1]\n",
    "JB_and_DT_N_dropped_last_1 .tail()"
   ]
  },
  {
   "cell_type": "code",
   "execution_count": null,
   "metadata": {},
   "outputs": [],
   "source": [
    "JB_and_DT_N_with_GEOID = pd.concat([GEO_new, JB_and_DT_N_dropped_last_1], axis=1, join='inner')"
   ]
  },
  {
   "cell_type": "code",
   "execution_count": null,
   "metadata": {},
   "outputs": [],
   "source": [
    "JB_and_DT_N_with_GEOID['winner'] = np.where(JB_and_DT_N_with_GEOID['Joe Biden Democratic #'] > JB_and_DT_N_with_GEOID['Donald Trump Republican #'], 'Joe Biden Democratic', 'Donald Trump Republican')"
   ]
  },
  {
   "cell_type": "code",
   "execution_count": null,
   "metadata": {},
   "outputs": [],
   "source": [
    "JB_and_DT_N_with_GEOID.head()"
   ]
  },
  {
   "cell_type": "code",
   "execution_count": null,
   "metadata": {},
   "outputs": [],
   "source": [
    "Winner_county_count = JB_and_DT_N_with_GEOID.groupby('winner').count()\n",
    "Winner_county_count"
   ]
  },
  {
   "cell_type": "code",
   "execution_count": null,
   "metadata": {},
   "outputs": [],
   "source": [
    "import plotly.express as px\n",
    "from urllib.request import urlopen\n",
    "import json\n",
    "\n",
    "with urlopen('https://raw.githubusercontent.com/plotly/datasets/master/geojson-counties-fips.json') as response:\n",
    "    counties = json.load(response)\n",
    "\n",
    "geojson = counties \n",
    "\n",
    "fig = px.choropleth_mapbox(JB_and_DT_N_with_GEOID, geojson=geojson, color=\"winner\",\n",
    "                           locations=JB_and_DT_N_with_GEOID['County GEOID'],\n",
    "                           center = {\"lat\": 33.247875, \"lon\":-83.441162 },\n",
    "                           color_discrete_map={'Donald Trump Republican':'#EF553B',\n",
    "                                               'Joe Biden Democratic':'#636EFA'},\n",
    "                           mapbox_style=\"open-street-map\",\n",
    "                           zoom=5.5)\n",
    "fig.update_layout(margin={\"r\":0,\"t\":0,\"l\":0,\"b\":0})\n",
    "fig.show()"
   ]
  },
  {
   "cell_type": "code",
   "execution_count": null,
   "metadata": {},
   "outputs": [],
   "source": [
    "from plotly.subplots import make_subplots\n",
    "import plotly.graph_objects as go\n",
    "import pandas as pd\n",
    "import json\n",
    "import urllib.request\n",
    "\n",
    "from urllib.request import urlopen\n",
    "import json\n",
    "\n",
    "\n",
    "fig = make_subplots(\n",
    "    rows=1, cols=2, subplot_titles=('Joe Biden Democratic #', 'Donald Trump Republican #'),\n",
    "    specs=[[{\"type\": \"mapbox\"}, {\"type\": \"mapbox\"}]]\n",
    ")\n",
    "\n",
    "with urlopen('https://raw.githubusercontent.com/plotly/datasets/master/geojson-counties-fips.json') as response:\n",
    "    counties = json.load(response)\n",
    "\n",
    "df1 = JB_and_DT_N_with_GEOID\n",
    "\n",
    "fig.add_trace(go.Choroplethmapbox(geojson=counties, \n",
    "                                  locations=df1['County GEOID'], \n",
    "                                  z=df1['Joe Biden Democratic #'],                                \n",
    "                                  colorbar=dict(thickness=20, x=0.46),\n",
    "                                  coloraxis=\"coloraxis1\",\n",
    "                                  marker=dict(opacity=0.75)), row=1, col=1)\n",
    "fig.add_trace(go.Choroplethmapbox(geojson=counties, \n",
    "                                  locations=df1['County GEOID'], \n",
    "                                  z=df1['Donald Trump Republican #'],\n",
    "                                  coloraxis=\"coloraxis1\",                            \n",
    "                                  colorbar=dict(thickness=20, x=1.02),\n",
    "                                  marker=dict(opacity=0.75, line_width=0.5)), row=1, col=2);\n",
    "\n",
    "\n",
    "fig.update_mapboxes(\n",
    "        bearing=0,\n",
    "        accesstoken=\"pk.eyJ1IjoiY2hyaXN0aWVsYXkiLCJhIjoiY2tud2RtZjhoMDEzMDJxcGZyZWV2anByMiJ9.O8ZkzD6zGvDToQAr3rEsug\",\n",
    "        center = {\"lat\": 33.247875, \"lon\":-83.441162 })\n",
    "\n",
    "fig.update_layout(coloraxis=dict(colorscale='plasma'), showlegend=False)\n",
    "\n",
    "fig.update_layout(margin=dict(l=0, r=0, t=50, b=10));\n",
    "\n",
    "\n",
    "fig.update_layout(mapbox1=dict(zoom=5.5, style='light'),\n",
    "                  mapbox2=dict(zoom=5.5, style='light'))"
   ]
  },
  {
   "cell_type": "code",
   "execution_count": null,
   "metadata": {},
   "outputs": [],
   "source": [
    "GA_result_t = GA_result.transpose()\n",
    "GA_result_t"
   ]
  },
  {
   "cell_type": "code",
   "execution_count": null,
   "metadata": {},
   "outputs": [],
   "source": [
    "GA_result_t_selected = GA_result_t.loc[[\"Joe Biden Democratic #\",\"Donald Trump Republican #\",\"Jo Jorgensen Libertarian #\",\"Howie Hawkins Green #\"]]\n",
    "total_result_pie = GA_result_t_selected.iloc[:,159]\n",
    "total_result_pie.head()"
   ]
  },
  {
   "cell_type": "code",
   "execution_count": null,
   "metadata": {},
   "outputs": [],
   "source": [
    "total_result_pie = pd.DataFrame(total_result_pie)\n",
    "total_result_pie.reset_index(inplace=True)\n",
    "total_result_pie = total_result_pie.rename(columns = {'index':'Candidates', '159':'Total Votes'})\n",
    "total_result_pie.columns =['Candidates','Total Votes']"
   ]
  },
  {
   "cell_type": "code",
   "execution_count": null,
   "metadata": {},
   "outputs": [],
   "source": [
    "total_result_pie"
   ]
  },
  {
   "cell_type": "code",
   "execution_count": null,
   "metadata": {},
   "outputs": [],
   "source": [
    "fig = px.pie(total_result_pie, values='Total Votes', names='Candidates', color='Candidates')\n",
    "             \n",
    "fig.show()"
   ]
  },
  {
   "cell_type": "markdown",
   "metadata": {},
   "source": [
    "#### Employment & Average weekly wage by county"
   ]
  },
  {
   "cell_type": "code",
   "execution_count": null,
   "metadata": {},
   "outputs": [],
   "source": [
    "Income ='https://drive.google.com/file/d/1OVJpSjTXfLbnZ7fl-yTLHHyBW_wbkk8A/view?usp=sharing'\n",
    "Income_id =Income.split('/')[-2]\n",
    "Income_url ='https://drive.google.com/uc?id=' + Income_id\n",
    "Income = pd.read_csv(Income_url)"
   ]
  },
  {
   "cell_type": "code",
   "execution_count": null,
   "metadata": {},
   "outputs": [],
   "source": [
    "Income.head()"
   ]
  },
  {
   "cell_type": "code",
   "execution_count": null,
   "metadata": {},
   "outputs": [],
   "source": [
    "Income_new = Income.iloc[2:]\n",
    "Income_new.reset_index(drop=True, inplace=True)\n",
    "Income_new.head()"
   ]
  },
  {
   "cell_type": "code",
   "execution_count": null,
   "metadata": {},
   "outputs": [],
   "source": [
    "Income_with_GEOID = pd.concat([GEO_new, Income_new], axis=1, join='inner')\n",
    "Income_with_GEOID.head()"
   ]
  },
  {
   "cell_type": "code",
   "execution_count": null,
   "metadata": {},
   "outputs": [],
   "source": [
    "Income_with_GEOID['Employment December 2019'] = Income_with_GEOID['Employment December 2019'].replace({',': ''}, regex=True)\n",
    "Income_with_GEOID['Average weekly wage'] = Income_with_GEOID['Average weekly wage'].replace({',': ''}, regex=True)\n",
    "Income_with_GEOID['Employment December 2019'] = Income_with_GEOID['Employment December 2019'].astype(float)\n",
    "Income_with_GEOID['Average weekly wage'] = Income_with_GEOID['Average weekly wage'].astype(float)\n",
    "Income_with_GEOID['Employment December 2019'] = Income_with_GEOID['Employment December 2019'].astype(int)\n",
    "Income_with_GEOID['Average weekly wage'] = Income_with_GEOID['Average weekly wage'].astype(int)"
   ]
  },
  {
   "cell_type": "code",
   "execution_count": null,
   "metadata": {},
   "outputs": [],
   "source": [
    "Income_with_GEOID.dtypes"
   ]
  },
  {
   "cell_type": "code",
   "execution_count": null,
   "metadata": {},
   "outputs": [],
   "source": [
    "from plotly.subplots import make_subplots\n",
    "import plotly.graph_objects as go\n",
    "import pandas as pd\n",
    "import json\n",
    "import urllib.request\n",
    "\n",
    "fig = make_subplots(\n",
    "    rows=1, cols=2, subplot_titles=('Employment December 2019', 'Average Weekly Wage'),\n",
    "    specs=[[{\"type\": \"mapbox\"}, {\"type\": \"mapbox\"}]]\n",
    ")\n",
    "\n",
    "with urlopen('https://raw.githubusercontent.com/plotly/datasets/master/geojson-counties-fips.json') as response:\n",
    "    counties = json.load(response)\n",
    "\n",
    "df2 = Income_with_GEOID\n",
    "\n",
    "fig.add_trace(go.Choroplethmapbox(geojson=counties, \n",
    "                                  locations=df2['County GEOID'], \n",
    "                                  z=df2['Employment December 2019'],                                \n",
    "                                  colorscale='Viridis',                                  \n",
    "                                  colorbar=dict(thickness=20, x=0.46),\n",
    "                                  marker=dict(opacity=0.75)), row=1, col=1)\n",
    "fig.add_trace(go.Choroplethmapbox(geojson=counties, \n",
    "                                  locations=df2['County GEOID'], \n",
    "                                  z=df2['Average weekly wage'],\n",
    "                                  colorscale='matter_r',                            \n",
    "                                  colorbar=dict(thickness=20, x=1.02),                                \n",
    "                                  marker=dict(opacity=0.75, line_width=0.5)), row=1, col=2);\n",
    "\n",
    "fig.update_mapboxes(\n",
    "        bearing=0,\n",
    "        accesstoken=\"pk.eyJ1IjoiY2hyaXN0aWVsYXkiLCJhIjoiY2tud2RtZjhoMDEzMDJxcGZyZWV2anByMiJ9.O8ZkzD6zGvDToQAr3rEsug\",\n",
    "        center = {\"lat\": 33.247875, \"lon\":-83.441162 })\n",
    "\n",
    "fig.update_layout(margin=dict(l=0, r=0, t=50, b=10));\n",
    "\n",
    "\n",
    "fig.update_layout(mapbox1=dict(zoom=5.5, style='light'),\n",
    "                  mapbox2=dict(zoom=5.5, style='light'))"
   ]
  },
  {
   "cell_type": "markdown",
   "metadata": {},
   "source": [
    "#### US CITIES"
   ]
  },
  {
   "cell_type": "code",
   "execution_count": null,
   "metadata": {},
   "outputs": [],
   "source": [
    "uscities = 'https://drive.google.com/file/d/1DJz5ZJJvcnvKPBWwuZaJhzHjEqd2p79N/view?usp=sharing'\n",
    "uscities_id = uscities.split('/')[-2]\n",
    "uscities_url ='https://drive.google.com/uc?id=' + uscities_id\n",
    "uscities = pd.read_csv(uscities_url)\n",
    "uscities.head()"
   ]
  },
  {
   "cell_type": "code",
   "execution_count": null,
   "metadata": {},
   "outputs": [],
   "source": [
    "GA = uscities[uscities['state_id'] == 'GA']\n",
    "GA.head()"
   ]
  },
  {
   "cell_type": "code",
   "execution_count": null,
   "metadata": {},
   "outputs": [],
   "source": [
    "sorted_GA = GA.sort_values(['county_name', 'county_fips','population'], ascending=[True, True, False])\n",
    "sorted_GA.reset_index(drop=True, inplace=True)\n",
    "sorted_GA.head(20)"
   ]
  },
  {
   "cell_type": "code",
   "execution_count": null,
   "metadata": {},
   "outputs": [],
   "source": [
    "sorted_GA_new = sorted_GA[['city', 'county_fips', 'county_name', 'lat', 'lng']]\n",
    "sorted_GA_new.head(10)"
   ]
  },
  {
   "cell_type": "code",
   "execution_count": null,
   "metadata": {},
   "outputs": [],
   "source": [
    "sorted_GA_new.dtypes"
   ]
  },
  {
   "cell_type": "code",
   "execution_count": null,
   "metadata": {},
   "outputs": [],
   "source": [
    "import plotly.express as px\n",
    "import numpy as np\n",
    "import plotly.graph_objects as go\n",
    "\n",
    "px.set_mapbox_access_token(\"pk.eyJ1IjoiY2hyaXN0aWVsYXkiLCJhIjoiY2tud2RtZjhoMDEzMDJxcGZyZWV2anByMiJ9.O8ZkzD6zGvDToQAr3rEsug\")\n",
    "fig = px.scatter_mapbox(sorted_GA,lat = \"lat\",lon = \"lng\",\n",
    "                        size = \"population\",color = 'population',    \n",
    "                        color_continuous_scale='blackbody', size_max=20, zoom=5.5)\n",
    "fig.show()"
   ]
  },
  {
   "cell_type": "code",
   "execution_count": null,
   "metadata": {},
   "outputs": [],
   "source": []
  }
 ],
 "metadata": {
  "kernelspec": {
   "display_name": "Python 3.7",
   "language": "python",
   "name": "python3"
  },
  "language_info": {
   "codemirror_mode": {
    "name": "ipython",
    "version": 3
   },
   "file_extension": ".py",
   "mimetype": "text/x-python",
   "name": "python",
   "nbconvert_exporter": "python",
   "pygments_lexer": "ipython3",
   "version": "3.7.10"
  }
 },
 "nbformat": 4,
 "nbformat_minor": 2
}
