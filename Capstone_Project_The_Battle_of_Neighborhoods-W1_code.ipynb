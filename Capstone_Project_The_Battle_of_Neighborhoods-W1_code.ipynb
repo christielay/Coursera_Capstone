{
 "cells": [
  {
   "cell_type": "markdown",
   "metadata": {
    "id": "h53oIsdk7-ou"
   },
   "source": [
    "# Capstone Project - The Battle of Neighborhoods\n",
    "### Week 1\n",
    "### Applied Data Science Capstone by IBM"
   ]
  },
  {
   "cell_type": "markdown",
   "metadata": {
    "id": "DOCKJHVm7-o1"
   },
   "source": [
    "### Introduction: Business Problem\n",
    "\n",
    "In 2020 United States Presidential Election, Joe Biden narrowly won in the state of Georgia. This project aims to gain an insight into voter's decision. By analyzing how data on income, ethnicity or industries distributed in different counties, we are able to conclude what decision would certain types of voter made. The political parties can thus adjust their policy to attract different target voters.\n"
   ]
  },
  {
   "cell_type": "markdown",
   "metadata": {
    "id": "Z2Wu03Z-7-o2"
   },
   "source": [
    "### Data\n",
    "\n",
    "* GEOID- GEOIDs are numeric codes that uniquely identify all administrative/legal and statistical geographic areas for which the Census Bureau tabulates data. From Alaska, the largest state, to the smallest census block in New York City, every geographic area has a unique GEOID(Source:https://www.census.gov/programs-surveys/geography/guidance/geo-identifiers.html). In this project we use GEOID to locate counties.  (Source:https://www2.census.gov/acs2010_5yr/summaryfile/UserTools/Geography/GA.xls)\n",
    "\n",
    "* Votes by county in georgia state - 2020 United States presidential election result by county in Georgia state, we will be focusing on votes of nominee Joe Biden and Donald Trump. (Source:https://en.wikipedia.org/wiki/2020_United_States_presidential_election_in_Georgia)\n",
    "\n",
    "* Income by county in georgia state - Covered employment and wages in the United States and all counties in Georgia, fourth quarter 2019. Income could be one of the potential reasons that affects voter's decision.\n",
    "(Source:https://www.bls.gov/regions/southeast/news-release/countyemploymentandwages_georgia.htm)\n",
    "\n",
    "* Ethnicity and race distribution by county - County Population by Race 2016. Ethnicity could also be one of the reasons that voters are more likely to support one party then another.\n",
    "(Source:https://census.georgia.gov/census-data/population-estimates)\n",
    "\n",
    "* USCities - City name, County, State, Latitude, Longtitude. This dataset is used to create map for the data exploration.\n",
    "(Source:https://simplemaps.com/data/us-cities)\n",
    "\n",
    "* Foursquare API - Exploring Neighborhood of the selected destinations. "
   ]
  },
  {
   "cell_type": "markdown",
   "metadata": {
    "id": "FnGdjsv17-o2"
   },
   "source": [
    "#### Import Libraries"
   ]
  },
  {
   "cell_type": "code",
   "execution_count": null,
   "metadata": {
    "colab": {
     "base_uri": "https://localhost:8080/"
    },
    "id": "d0MEhnWt7-o3",
    "outputId": "1123b596-ed65-46b2-b8eb-cc61b382c63a"
   },
   "outputs": [],
   "source": [
    "import pandas as pd\n",
    "import numpy as np # library to handle data in a vectorized manner\n",
    "import requests\n",
    "from geopy.geocoders import Nominatim\n",
    "import plotly.graph_objects as go\n",
    "import plotly.express as px\n",
    "\n",
    "print('Libraries imported.')"
   ]
  },
  {
   "cell_type": "code",
   "execution_count": null,
   "metadata": {
    "colab": {
     "base_uri": "https://localhost:8080/",
     "height": 1000
    },
    "id": "hLpDGHXj7-o4",
    "outputId": "08698aab-91e7-42ea-87a8-55008fcbc64e"
   },
   "outputs": [],
   "source": [
    "!pip install dash==1.19.0\n",
    "!pip install jupyter_dash\n",
    "!pip install --upgrade plotly "
   ]
  },
  {
   "cell_type": "markdown",
   "metadata": {
    "id": "ujUF4-0h7-o4"
   },
   "source": [
    "### Data Exploration\n",
    "#### GEOID"
   ]
  },
  {
   "cell_type": "code",
   "execution_count": null,
   "metadata": {
    "colab": {
     "base_uri": "https://localhost:8080/",
     "height": 194
    },
    "id": "1qENbzg17-o4",
    "outputId": "7d3b595e-8151-4cfd-b6f2-478232d4e89a"
   },
   "outputs": [],
   "source": [
    "GA_FIPS='https://drive.google.com/file/d/1Vr3b2RfCJQ3FUC_Y2YZbaJchWezmPPWI/view?usp=sharing'\n",
    "file_id=GA_FIPS.split('/')[-2]\n",
    "GA_url='https://drive.google.com/uc?id=' + file_id\n",
    "GA_FIPS= pd.read_csv(GA_url)\n",
    "GA_FIPS_new = GA_FIPS.iloc[12:171]\n",
    "GA_FIPS_new.reset_index(drop=True, inplace=True)\n",
    "GA_FIPS_new.head()"
   ]
  },
  {
   "cell_type": "code",
   "execution_count": null,
   "metadata": {
    "colab": {
     "base_uri": "https://localhost:8080/"
    },
    "id": "Wci9XYrG7-o5",
    "outputId": "2f15e58b-6d73-4ce7-cad5-6c048329eb9a"
   },
   "outputs": [],
   "source": [
    "GEOID = GA_FIPS_new[['GEOID','GEOGRAPHY NAME']]\n",
    "GEOID['County GEOID'] = GEOID['GEOID'].str[7:]\n",
    "GEOID['County'] = GEOID['GEOGRAPHY NAME'].str.replace(\"County, Georgia\",\"\")\n",
    "GEO_new = GEOID.drop(['GEOID', 'GEOGRAPHY NAME'], axis=1)"
   ]
  },
  {
   "cell_type": "code",
   "execution_count": null,
   "metadata": {
    "colab": {
     "base_uri": "https://localhost:8080/",
     "height": 194
    },
    "id": "-_xlQkNg7-o6",
    "outputId": "b70e013c-6afa-4e07-e88f-2b39abe8e736"
   },
   "outputs": [],
   "source": [
    "GEO_new.head()"
   ]
  },
  {
   "cell_type": "markdown",
   "metadata": {
    "id": "upNuR7XT7-o7"
   },
   "source": [
    "#### 2020 United States presidential election result by county in Georgia state"
   ]
  },
  {
   "cell_type": "code",
   "execution_count": null,
   "metadata": {
    "id": "PmYmZl5Y7-o7"
   },
   "outputs": [],
   "source": [
    "table = pd.read_html('https://en.wikipedia.org/wiki/2020_United_States_presidential_election_in_Georgia', match='Total votes cast')"
   ]
  },
  {
   "cell_type": "code",
   "execution_count": null,
   "metadata": {
    "id": "RL4pZeDw7-o8"
   },
   "outputs": [],
   "source": [
    "GA_result = table[0]"
   ]
  },
  {
   "cell_type": "code",
   "execution_count": null,
   "metadata": {
    "id": "-aHdzu787-o8"
   },
   "outputs": [],
   "source": [
    "GA_result.columns = [''] * len(GA_result.columns)\n",
    "\n",
    "columns = [\"County\", \"Joe Biden Democratic #\",\"Joe Biden Democratic %\",\"Donald Trump Republican #\",\"Donald Trump Republican %\",\n",
    "           \"Jo Jorgensen Libertarian #\", \"Jo Jorgensen Libertarian %\", \"Howie Hawkins Green #\", \n",
    "           \"Brian Carroll American Solidarity\", \"Margin #\", \"Margin %\", \"Total Votes Cast\"]\n",
    "GA_result.columns = columns"
   ]
  },
  {
   "cell_type": "code",
   "execution_count": null,
   "metadata": {
    "id": "rATNYAXB7-o9"
   },
   "outputs": [],
   "source": [
    "GA_result['County'] = GA_result['County'].str.replace(\"[\",\"\")\n",
    "GA_result['County'] = GA_result['County'].str.replace(\"]\",\"\")\n",
    "GA_result['County'] = GA_result['County'].str.replace(\"0\",\"\")\n",
    "GA_result['County'] = GA_result['County'].str.replace(\"1\",\"\")\n",
    "GA_result['County'] = GA_result['County'].str.replace(\"2\",\"\")\n",
    "GA_result['County'] = GA_result['County'].str.replace(\"3\",\"\")\n",
    "GA_result['County'] = GA_result['County'].str.replace(\"4\",\"\")\n",
    "GA_result['County'] = GA_result['County'].str.replace(\"5\",\"\")\n",
    "GA_result['County'] = GA_result['County'].str.replace(\"6\",\"\")\n",
    "GA_result['County'] = GA_result['County'].str.replace(\"7\",\"\")\n",
    "GA_result['County'] = GA_result['County'].str.replace(\"8\",\"\")\n",
    "GA_result['County'] = GA_result['County'].str.replace(\"9\",\"\")"
   ]
  },
  {
   "cell_type": "code",
   "execution_count": null,
   "metadata": {
    "colab": {
     "base_uri": "https://localhost:8080/",
     "height": 211
    },
    "id": "2Sw9Jh0G7-o-",
    "outputId": "5dbc279d-0064-4c77-d8be-318b7710cab5"
   },
   "outputs": [],
   "source": [
    "GA_result.head()"
   ]
  },
  {
   "cell_type": "code",
   "execution_count": null,
   "metadata": {
    "colab": {
     "base_uri": "https://localhost:8080/",
     "height": 211
    },
    "id": "c3dahqm37-o-",
    "outputId": "b45845ef-eb07-4ce8-e3a2-7c5953f1aeed"
   },
   "outputs": [],
   "source": [
    "GA_result.tail()"
   ]
  },
  {
   "cell_type": "code",
   "execution_count": null,
   "metadata": {
    "colab": {
     "base_uri": "https://localhost:8080/"
    },
    "id": "oeAK2puK7-o-",
    "outputId": "532a2b96-5246-450f-8d76-91fb1da27565"
   },
   "outputs": [],
   "source": [
    "GA_result.shape"
   ]
  },
  {
   "cell_type": "code",
   "execution_count": null,
   "metadata": {
    "id": "0SwY779D7-o_"
   },
   "outputs": [],
   "source": [
    "JB_and_DT_N = GA_result[['Joe Biden Democratic #','Donald Trump Republican #']]"
   ]
  },
  {
   "cell_type": "code",
   "execution_count": null,
   "metadata": {
    "colab": {
     "base_uri": "https://localhost:8080/",
     "height": 194
    },
    "id": "xoLq9b7N7-o_",
    "outputId": "dc96b935-1e56-4dfd-a700-7fe89bee8efe"
   },
   "outputs": [],
   "source": [
    "JB_and_DT_N_dropped_last_1 = JB_and_DT_N.iloc[:-1]\n",
    "JB_and_DT_N_dropped_last_1 .tail()"
   ]
  },
  {
   "cell_type": "code",
   "execution_count": null,
   "metadata": {
    "id": "VyEkP9Ug7-pA"
   },
   "outputs": [],
   "source": [
    "JB_and_DT_N_with_GEOID = pd.concat([GEO_new, JB_and_DT_N_dropped_last_1], axis=1, join='inner')"
   ]
  },
  {
   "cell_type": "code",
   "execution_count": null,
   "metadata": {
    "id": "rNAcYh1c7-pA"
   },
   "outputs": [],
   "source": [
    "JB_and_DT_N_with_GEOID['winner'] = np.where(JB_and_DT_N_with_GEOID['Joe Biden Democratic #'] > JB_and_DT_N_with_GEOID['Donald Trump Republican #'], 'Joe Biden Democratic', 'Donald Trump Republican')"
   ]
  },
  {
   "cell_type": "code",
   "execution_count": null,
   "metadata": {
    "colab": {
     "base_uri": "https://localhost:8080/",
     "height": 194
    },
    "id": "dXyTD8fp7-pB",
    "outputId": "a786cc72-5539-4622-df4e-d2a5926974c6"
   },
   "outputs": [],
   "source": [
    "JB_and_DT_N_with_GEOID.head()"
   ]
  },
  {
   "cell_type": "code",
   "execution_count": null,
   "metadata": {
    "colab": {
     "base_uri": "https://localhost:8080/",
     "height": 135
    },
    "id": "eXlj6qxW7-pB",
    "outputId": "b2d328ae-3a11-48fc-d1aa-b94606b39f33"
   },
   "outputs": [],
   "source": [
    "Winner_county_count = JB_and_DT_N_with_GEOID.groupby('winner').count()\n",
    "Winner_county_count"
   ]
  },
  {
   "cell_type": "code",
   "execution_count": null,
   "metadata": {
    "colab": {
     "base_uri": "https://localhost:8080/",
     "height": 542
    },
    "id": "Fvw8nEt47-pC",
    "outputId": "4e297c66-7cd5-4d46-fdc1-7f232c9c27b1"
   },
   "outputs": [],
   "source": [
    "import plotly.express as px\n",
    "from urllib.request import urlopen\n",
    "import json\n",
    "\n",
    "with urlopen('https://raw.githubusercontent.com/plotly/datasets/master/geojson-counties-fips.json') as response:\n",
    "    counties = json.load(response)\n",
    "\n",
    "geojson = counties \n",
    "\n",
    "fig = px.choropleth_mapbox(JB_and_DT_N_with_GEOID, geojson=geojson, color=\"winner\",\n",
    "                           locations=JB_and_DT_N_with_GEOID['County GEOID'],\n",
    "                           center = {\"lat\": 33.247875, \"lon\":-83.441162 },\n",
    "                           color_discrete_map={'Donald Trump Republican':'#EF553B',\n",
    "                                     'Joe Biden Democratic':'#636EFA'},\n",
    "                           mapbox_style=\"open-street-map\",\n",
    "                           zoom=5.5)\n",
    "fig.update_layout(margin={\"r\":0,\"t\":0,\"l\":0,\"b\":0})\n",
    "fig.show()"
   ]
  },
  {
   "cell_type": "code",
   "execution_count": null,
   "metadata": {
    "colab": {
     "base_uri": "https://localhost:8080/",
     "height": 542
    },
    "id": "ZeZT9VEw7-pD",
    "outputId": "fcfaca53-dd6f-4f46-babb-4a5a275c12ba"
   },
   "outputs": [],
   "source": [
    "from plotly.subplots import make_subplots\n",
    "import plotly.graph_objects as go\n",
    "import pandas as pd\n",
    "import json\n",
    "import urllib.request\n",
    "\n",
    "from urllib.request import urlopen\n",
    "import json\n",
    "\n",
    "\n",
    "fig = make_subplots(\n",
    "    rows=1, cols=2, subplot_titles=('Joe Biden Democratic #', 'Donald Trump Republican #'),\n",
    "    specs=[[{\"type\": \"mapbox\"}, {\"type\": \"mapbox\"}]]\n",
    ")\n",
    "\n",
    "with urlopen('https://raw.githubusercontent.com/plotly/datasets/master/geojson-counties-fips.json') as response:\n",
    "    counties = json.load(response)\n",
    "\n",
    "df1 = JB_and_DT_N_with_GEOID\n",
    "\n",
    "fig.add_trace(go.Choroplethmapbox(geojson=counties, \n",
    "                                  locations=df1['County GEOID'], \n",
    "                                  z=df1['Joe Biden Democratic #'],                                \n",
    "                                  colorbar=dict(thickness=20, x=0.46),\n",
    "                                  coloraxis=\"coloraxis1\",\n",
    "                                  marker=dict(opacity=0.75)), row=1, col=1)\n",
    "fig.add_trace(go.Choroplethmapbox(geojson=counties, \n",
    "                                  locations=df1['County GEOID'], \n",
    "                                  z=df1['Donald Trump Republican #'],\n",
    "                                  coloraxis=\"coloraxis1\",                            \n",
    "                                  colorbar=dict(thickness=20, x=1.02),\n",
    "                                  marker=dict(opacity=0.75, line_width=0.5)), row=1, col=2);\n",
    "\n",
    "\n",
    "fig.update_mapboxes(\n",
    "        bearing=0,\n",
    "        accesstoken=\"pk.eyJ1IjoiY2hyaXN0aWVsYXkiLCJhIjoiY2tud2RtZjhoMDEzMDJxcGZyZWV2anByMiJ9.O8ZkzD6zGvDToQAr3rEsug\",\n",
    "        center = {\"lat\": 33.247875, \"lon\":-83.441162 })\n",
    "\n",
    "fig.update_layout(coloraxis=dict(colorscale='plasma'), showlegend=False)\n",
    "\n",
    "fig.update_layout(margin=dict(l=0, r=0, t=50, b=10));\n",
    "\n",
    "\n",
    "fig.update_layout(mapbox1=dict(zoom=5.5, style='light'),\n",
    "                  mapbox2=dict(zoom=5.5, style='light'))"
   ]
  },
  {
   "cell_type": "code",
   "execution_count": null,
   "metadata": {
    "colab": {
     "base_uri": "https://localhost:8080/",
     "height": 820
    },
    "id": "FNgJS0yL7-pE",
    "outputId": "4fb99489-1a37-48c5-9c80-bb6c43b1459a"
   },
   "outputs": [],
   "source": [
    "GA_result_t = GA_result.transpose()\n",
    "GA_result_t"
   ]
  },
  {
   "cell_type": "code",
   "execution_count": null,
   "metadata": {
    "colab": {
     "base_uri": "https://localhost:8080/"
    },
    "id": "CQV04wks7-pE",
    "outputId": "0dc8ae26-476e-4585-9f6a-c37dae0d2fb0"
   },
   "outputs": [],
   "source": [
    "GA_result_t_selected = GA_result_t.loc[[\"Joe Biden Democratic #\",\"Donald Trump Republican #\",\"Jo Jorgensen Libertarian #\",\"Howie Hawkins Green #\"]]\n",
    "total_result_pie = GA_result_t_selected.iloc[:,159]\n",
    "total_result_pie.head()"
   ]
  },
  {
   "cell_type": "code",
   "execution_count": null,
   "metadata": {
    "id": "QZAJL4RQ7-pF"
   },
   "outputs": [],
   "source": [
    "total_result_pie = pd.DataFrame(total_result_pie)\n",
    "total_result_pie.reset_index(inplace=True)\n",
    "total_result_pie = total_result_pie.rename(columns = {'index':'Candidates', '159':'Total Votes'})\n",
    "total_result_pie.columns =['Candidates','Total Votes']"
   ]
  },
  {
   "cell_type": "code",
   "execution_count": null,
   "metadata": {
    "colab": {
     "base_uri": "https://localhost:8080/",
     "height": 164
    },
    "id": "H961qr6C7-pF",
    "outputId": "0228992d-2bfd-4f4b-9194-cda5a6a9bee5"
   },
   "outputs": [],
   "source": [
    "total_result_pie"
   ]
  },
  {
   "cell_type": "code",
   "execution_count": null,
   "metadata": {
    "colab": {
     "base_uri": "https://localhost:8080/",
     "height": 542
    },
    "id": "fydJIHB57-pG",
    "outputId": "4a2504ad-4dfa-4416-e245-8bf95d50777a"
   },
   "outputs": [],
   "source": [
    "fig = px.pie(total_result_pie, values='Total Votes', names='Candidates', color='Candidates')\n",
    "             \n",
    "fig.show()"
   ]
  },
  {
   "cell_type": "markdown",
   "metadata": {
    "id": "f_Qq0Rsz7-pG"
   },
   "source": [
    "#### Employment & Average weekly wage by county"
   ]
  },
  {
   "cell_type": "code",
   "execution_count": null,
   "metadata": {
    "id": "x2-AQLOB7-pG"
   },
   "outputs": [],
   "source": [
    "Income ='https://drive.google.com/file/d/1OVJpSjTXfLbnZ7fl-yTLHHyBW_wbkk8A/view?usp=sharing'\n",
    "Income_id =Income.split('/')[-2]\n",
    "Income_url ='https://drive.google.com/uc?id=' + Income_id\n",
    "Income = pd.read_csv(Income_url)"
   ]
  },
  {
   "cell_type": "code",
   "execution_count": null,
   "metadata": {
    "colab": {
     "base_uri": "https://localhost:8080/",
     "height": 194
    },
    "id": "yg1eoN4t7-pH",
    "outputId": "263664f9-798b-4a03-cc4c-b8c7b5310c54"
   },
   "outputs": [],
   "source": [
    "Income.head()"
   ]
  },
  {
   "cell_type": "code",
   "execution_count": null,
   "metadata": {
    "colab": {
     "base_uri": "https://localhost:8080/",
     "height": 194
    },
    "id": "3cPTAw6b7-pH",
    "outputId": "a755a6c4-37e7-4275-a404-e6a4d37d908f"
   },
   "outputs": [],
   "source": [
    "Income_new = Income.iloc[2:]\n",
    "Income_new.reset_index(drop=True, inplace=True)\n",
    "Income_new.head()"
   ]
  },
  {
   "cell_type": "code",
   "execution_count": null,
   "metadata": {
    "colab": {
     "base_uri": "https://localhost:8080/",
     "height": 194
    },
    "id": "mqypN1NZ7-pH",
    "outputId": "28116f58-cbd8-4c53-c3f4-85dac2518e49"
   },
   "outputs": [],
   "source": [
    "Income_with_GEOID = pd.concat([GEO_new, Income_new], axis=1, join='inner')\n",
    "Income_with_GEOID.head()"
   ]
  },
  {
   "cell_type": "code",
   "execution_count": null,
   "metadata": {
    "id": "pJu_ZC8b7-pH"
   },
   "outputs": [],
   "source": [
    "Income_with_GEOID['Employment December 2019'] = Income_with_GEOID['Employment December 2019'].replace({',': ''}, regex=True)\n",
    "Income_with_GEOID['Average weekly wage'] = Income_with_GEOID['Average weekly wage'].replace({',': ''}, regex=True)\n",
    "Income_with_GEOID['Employment December 2019'] = Income_with_GEOID['Employment December 2019'].astype(float)\n",
    "Income_with_GEOID['Average weekly wage'] = Income_with_GEOID['Average weekly wage'].astype(float)\n",
    "Income_with_GEOID['Employment December 2019'] = Income_with_GEOID['Employment December 2019'].astype(int)\n",
    "Income_with_GEOID['Average weekly wage'] = Income_with_GEOID['Average weekly wage'].astype(int)"
   ]
  },
  {
   "cell_type": "code",
   "execution_count": null,
   "metadata": {
    "colab": {
     "base_uri": "https://localhost:8080/"
    },
    "id": "NNAH5fY97-pI",
    "outputId": "a934eb8f-e4f9-46cd-f618-7ba175488d78"
   },
   "outputs": [],
   "source": [
    "Income_with_GEOID.dtypes"
   ]
  },
  {
   "cell_type": "code",
   "execution_count": null,
   "metadata": {
    "colab": {
     "base_uri": "https://localhost:8080/",
     "height": 542
    },
    "id": "aLdNJEI67-pI",
    "outputId": "93d2995b-e016-44a8-a8db-27a73295c26e"
   },
   "outputs": [],
   "source": [
    "from plotly.subplots import make_subplots\n",
    "import plotly.graph_objects as go\n",
    "import pandas as pd\n",
    "import json\n",
    "import urllib.request\n",
    "\n",
    "fig = make_subplots(\n",
    "    rows=1, cols=2, subplot_titles=('Employment December 2019', 'Average Weekly Wage'),\n",
    "    specs=[[{\"type\": \"mapbox\"}, {\"type\": \"mapbox\"}]]\n",
    ")\n",
    "\n",
    "with urlopen('https://raw.githubusercontent.com/plotly/datasets/master/geojson-counties-fips.json') as response:\n",
    "    counties = json.load(response)\n",
    "\n",
    "df2 = Income_with_GEOID\n",
    "\n",
    "fig.add_trace(go.Choroplethmapbox(geojson=counties, \n",
    "                                  locations=df2['County GEOID'], \n",
    "                                  z=df2['Employment December 2019'],                                \n",
    "                                  colorscale='Viridis',                                  \n",
    "                                  colorbar=dict(thickness=20, x=0.46),\n",
    "                                  marker=dict(opacity=0.75)), row=1, col=1)\n",
    "fig.add_trace(go.Choroplethmapbox(geojson=counties, \n",
    "                                  locations=df2['County GEOID'], \n",
    "                                  z=df2['Average weekly wage'],\n",
    "                                  colorscale='matter_r',                            \n",
    "                                  colorbar=dict(thickness=20, x=1.02),                                \n",
    "                                  marker=dict(opacity=0.75, line_width=0.5)), row=1, col=2);\n",
    "\n",
    "fig.update_mapboxes(\n",
    "        bearing=0,\n",
    "        accesstoken=\"pk.eyJ1IjoiY2hyaXN0aWVsYXkiLCJhIjoiY2tud2RtZjhoMDEzMDJxcGZyZWV2anByMiJ9.O8ZkzD6zGvDToQAr3rEsug\",\n",
    "        center = {\"lat\": 33.247875, \"lon\":-83.441162 })\n",
    "\n",
    "fig.update_layout(margin=dict(l=0, r=0, t=50, b=10));\n",
    "\n",
    "\n",
    "fig.update_layout(mapbox1=dict(zoom=5.5, style='light'),\n",
    "                  mapbox2=dict(zoom=5.5, style='light'))"
   ]
  },
  {
   "cell_type": "markdown",
   "metadata": {
    "id": "kBzTmmBM7-pI"
   },
   "source": [
    "#### US CITIES"
   ]
  },
  {
   "cell_type": "code",
   "execution_count": null,
   "metadata": {
    "colab": {
     "base_uri": "https://localhost:8080/",
     "height": 363
    },
    "id": "sY14D3507-pJ",
    "outputId": "81673e1b-ab0c-4ea9-f23f-19a879782e6f"
   },
   "outputs": [],
   "source": [
    "uscities = 'https://drive.google.com/file/d/1DJz5ZJJvcnvKPBWwuZaJhzHjEqd2p79N/view?usp=sharing'\n",
    "uscities_id = uscities.split('/')[-2]\n",
    "uscities_url ='https://drive.google.com/uc?id=' + uscities_id\n",
    "uscities = pd.read_csv(uscities_url)\n",
    "uscities.head()"
   ]
  },
  {
   "cell_type": "code",
   "execution_count": null,
   "metadata": {
    "colab": {
     "base_uri": "https://localhost:8080/",
     "height": 329
    },
    "id": "j2frBkHo7-pK",
    "outputId": "5b5b933a-dedf-4c2b-d395-3a262a6b8e97"
   },
   "outputs": [],
   "source": [
    "GA = uscities[uscities['state_id'] == 'GA']\n",
    "GA.head()"
   ]
  },
  {
   "cell_type": "code",
   "execution_count": null,
   "metadata": {
    "colab": {
     "base_uri": "https://localhost:8080/",
     "height": 634
    },
    "id": "ErFUQ9Ym7-pK",
    "outputId": "25c6900e-97c1-4c2a-bc0c-d2298989a494"
   },
   "outputs": [],
   "source": [
    "sorted_GA = GA.sort_values(['county_name', 'county_fips','population'], ascending=[True, True, False])\n",
    "sorted_GA.reset_index(drop=True, inplace=True)\n",
    "sorted_GA.head(20)"
   ]
  },
  {
   "cell_type": "code",
   "execution_count": null,
   "metadata": {
    "colab": {
     "base_uri": "https://localhost:8080/",
     "height": 340
    },
    "id": "oW4NKSDe7-pK",
    "outputId": "ee2665a7-b96c-470b-ab95-8359025425ce"
   },
   "outputs": [],
   "source": [
    "sorted_GA_new = sorted_GA[['city', 'county_fips', 'county_name', 'lat', 'lng']]\n",
    "sorted_GA_new.head(10)"
   ]
  },
  {
   "cell_type": "code",
   "execution_count": null,
   "metadata": {
    "colab": {
     "base_uri": "https://localhost:8080/"
    },
    "id": "qqEj_kYd7-pL",
    "outputId": "7ef306db-ee4f-4966-8d65-3ed8f9bf264d"
   },
   "outputs": [],
   "source": [
    "sorted_GA_new.dtypes"
   ]
  },
  {
   "cell_type": "code",
   "execution_count": null,
   "metadata": {
    "colab": {
     "base_uri": "https://localhost:8080/",
     "height": 542
    },
    "id": "Wc7rnnQ37-pL",
    "outputId": "31b33b60-daf2-4990-e77f-4e493fc16607"
   },
   "outputs": [],
   "source": [
    "import plotly.express as px\n",
    "import numpy as np\n",
    "import plotly.graph_objects as go\n",
    "\n",
    "px.set_mapbox_access_token(\"pk.eyJ1IjoiY2hyaXN0aWVsYXkiLCJhIjoiY2tud2RtZjhoMDEzMDJxcGZyZWV2anByMiJ9.O8ZkzD6zGvDToQAr3rEsug\")\n",
    "fig = px.scatter_mapbox(sorted_GA,lat = \"lat\",lon = \"lng\",\n",
    "                        size = \"population\",color = 'population',    \n",
    "                        color_continuous_scale='blackbody', size_max=20, zoom=5.5)\n",
    "fig.show()"
   ]
  },
  {
   "cell_type": "code",
   "execution_count": null,
   "metadata": {
    "id": "f-XNtu9P7-pL"
   },
   "outputs": [],
   "source": []
  }
 ],
 "metadata": {
  "colab": {
   "collapsed_sections": [],
   "name": "Capstone Project - The Battle of Neighborhoods - W.ipynb",
   "provenance": []
  },
  "kernelspec": {
   "display_name": "Python 3.7",
   "language": "python",
   "name": "python3"
  },
  "language_info": {
   "codemirror_mode": {
    "name": "ipython",
    "version": 3
   },
   "file_extension": ".py",
   "mimetype": "text/x-python",
   "name": "python",
   "nbconvert_exporter": "python",
   "pygments_lexer": "ipython3",
   "version": "3.7.10"
  }
 },
 "nbformat": 4,
 "nbformat_minor": 1
}
