{
 "cells": [
  {
   "cell_type": "markdown",
   "metadata": {},
   "source": [
    "# Capstone Project - The Battle of Neighborhoods\n",
    "### Week 1\n",
    "### Applied Data Science Capstone by IBM"
   ]
  },
  {
   "cell_type": "markdown",
   "metadata": {},
   "source": [
    "### Introduction: Business Problem\n",
    "\n",
    "A graduate student just got an offer in LA. She's excited about the new oppurtunity as well as the new life about to begin in the big city. However, she has no idea about the area. She would like to find a place that's convenient and safe. She also prefer to live near a park where she can walk her dog. This project aims to recommend the desired place to live in for people who are ready to move into new places.\n",
    "\n"
   ]
  },
  {
   "cell_type": "markdown",
   "metadata": {},
   "source": [
    "### Data\n",
    "\n",
    "* USCities - City name, County, State, Latitude, Longtitude. This dataset is used to generate map.\n",
    "(Source:https://simplemaps.com/data/us-cities)\n",
    "* LA crime data - This dataset contains crime rate for each city in LA county. (Source:https://en.wikipedia.org/wiki/California_locations_by_crime_rate)\n",
    "* Foursquare API - Explore neighborhood with its top venues"
   ]
  },
  {
   "cell_type": "code",
   "execution_count": null,
   "metadata": {},
   "outputs": [],
   "source": []
  }
 ],
 "metadata": {
  "kernelspec": {
   "display_name": "Python 3",
   "language": "python",
   "name": "python3"
  },
  "language_info": {
   "codemirror_mode": {
    "name": "ipython",
    "version": 3
   },
   "file_extension": ".py",
   "mimetype": "text/x-python",
   "name": "python",
   "nbconvert_exporter": "python",
   "pygments_lexer": "ipython3",
   "version": "3.8.5"
  }
 },
 "nbformat": 4,
 "nbformat_minor": 4
}
